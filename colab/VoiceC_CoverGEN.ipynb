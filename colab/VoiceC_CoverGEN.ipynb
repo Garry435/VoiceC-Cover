<a target="_blank" href="https://colab.research.google.com/github/Garry435/VoiceC-Cover/blob/main/colab/VoiceC_CoverGEN.ipynb">
  <img src="https://colab.research.google.com/assets/colab-badge.svg" alt="Open In Colab"/>
</a>
{
  "cells": [
    {
      "cell_type": "code",
      "execution_count": null,
      "metadata": {
        "id": "lNiL-xLaUJD0",
        "cellView": "form"
      },
      "outputs": [],
      "source": [
        "#@title Clone the VoiceC-Cover repository\n",
        "!git clone https://github.com/Garry435/VoiceC-Cover.git"
      ]
    },
    {
      "cell_type": "code",
      "execution_count": null,
      "metadata": {
        "id": "uaxRpcbgURhE",
        "cellView": "form"
      },
      "outputs": [],
      "source": [
        "#@title Setup\n",
        "%cd VoiceC-Cover\n",
        "!pip install -r requirements.txt\n",
        "!python download_models.py\n",
        "from main import *\n",
        "import os\n",
        "from IPython.display import Audio\n",
        "device = 'cuda:0'\n",
        "config = Config(device, True)\n",
        "hubert_model = load_hubert(device, config.is_half,'hubert_base.pt')\n",
        "pitch_change = -8\n",
        "f0_method = 'rmvpe'\n",
        "volume_envelope = 0.25\n",
        "index_rate = 0.5\n",
        "filter_radius=3\n",
        "crepe_hop_length = 128\n",
        "protect=0.33\n",
        "rms_mix_rate=0.25\n",
        "def list_models(folder_path):\n",
        "    subfolders = [f for f in os.listdir(folder_path) if os.path.isdir(os.path.join(folder_path, f))]\n",
        "    return subfolders"
      ]
    },
    {
      "cell_type": "code",
      "source": [
        "# @title DOWNLOAD MODEL\n",
        "import os\n",
        "Model_name = ''# @param {type:\"string\"}\n",
        "Model_url = ''# @param {type:\"string\"}\n",
        "os.makedirs(f'VoiceModels/{Model_name}',exist_ok=True)\n",
        "down(Model_url,f\"VoiceModels/{Model_name}/test_model.zip\")\n",
        "extract(f\"VoiceModels/{Model_name}/test_model.zip\",f\"VoiceModels/{Model_name}/\")\n",
        "print(f'Downloaded {Model_name} succesfully !')"
      ],
      "metadata": {
        "id": "7yJqrQTdaw-2",
        "cellView": "form"
      },
      "execution_count": null,
      "outputs": []
    },
    {
      "cell_type": "code",
      "source": [
        "# @title Print all the available models\n",
        "models = list_models('VoiceModels')\n",
        "if models != []:\n",
        "    for model in models:\n",
        "      print(model)\n",
        "else:\n",
        "    print('No model Available, download using the above cell')"
      ],
      "metadata": {
        "cellView": "form",
        "id": "qGEQioM_FTCv"
      },
      "execution_count": null,
      "outputs": []
    },
    {
      "cell_type": "code",
      "execution_count": null,
      "metadata": {
        "id": "ISmm552cUnGH",
        "cellView": "form"
      },
      "outputs": [],
      "source": [
        "# @title GENERATE\n",
        "models = list_models('VoiceModels')\n",
        "MODEL_NAME = '' # @param {type:\"string\"}\n",
        "svc_model_path, svc_index_path = get_model_path(f'VoiceModels/{MODEL_NAME}')\n",
        "cpt, version, net_g, tgt_sr, vc = get_vc(device, config.is_half, config, svc_model_path)\n",
        "\n",
        "pitch_change = -8# @param {type:\"integer\"}\n",
        "index_rate = 0.5 # @param {type:\"number\"}\n",
        "Youtube_link ='' # @param {type:\"string\"}\n",
        "output_dir='song_outputs'\n",
        "song_id = get_youtube_video_id(Youtube_link)\n",
        "os.makedirs(f\"{output_dir}/{song_id}\",exist_ok=True)\n",
        "with open('mdxnet_models/model_data.json') as infile:\n",
        "    mdx_model_params = json.load(infile)\n",
        "#song_id = get_hash(song_input)\n",
        "os.makedirs(f\"{output_dir}/{song_id}\",exist_ok=True)\n",
        "pitch_change = -8\n",
        "ai_main_vocals_path = f\"{output_dir}/{song_id}_ai.wav\"\n",
        "\n",
        "orig_song_path, vocals_path, instrumentals_path, main_vocals_path, backup_vocals_path =preprocess_song(Youtube_link, mdx_model_params, song_id)\n",
        "svc_infer(svc_index_path, index_rate, main_vocals_path, ai_main_vocals_path, pitch_change, f0_method, cpt, version, net_g, filter_radius, tgt_sr, rms_mix_rate, protect, crepe_hop_length, vc, hubert_model)\n",
        "\n",
        "combine_audio([ai_main_vocals_path, backup_vocals_path, instrumentals_path],'output.mp3')\n",
        "Audio('output.mp3')"
      ]
    }
  ],
  "metadata": {
    "accelerator": "GPU",
    "colab": {
      "provenance": []
    },
    "kernelspec": {
      "display_name": "Python 3",
      "name": "python3"
    },
    "language_info": {
      "name": "python"
    }
  },
  "nbformat": 4,
  "nbformat_minor": 0
}
